{
 "cells": [
  {
   "cell_type": "markdown",
   "metadata": {},
   "source": [
    "## Code For Analysing the Dataset"
   ]
  },
  {
   "cell_type": "code",
   "execution_count": 2,
   "metadata": {},
   "outputs": [],
   "source": [
    "import numpy as np\n",
    "import pandas as pd\n",
    "from matplotlib import pyplot as plt\n",
    "from collections import Counter"
   ]
  },
  {
   "cell_type": "markdown",
   "metadata": {},
   "source": [
    "### Text Cleaning Functions"
   ]
  },
  {
   "cell_type": "code",
   "execution_count": 3,
   "metadata": {},
   "outputs": [],
   "source": [
    "import string \n",
    "import nltk\n",
    "from nltk.corpus import stopwords\n",
    "from nltk.stem import WordNetLemmatizer\n",
    "from nltk.corpus import wordnet\n",
    "\n",
    "# Create set of stopwords for use in preprocessing\n",
    "stopword_set = set(stopwords.words('english'))\n",
    "# print(stopword_set)\n",
    "\n",
    "def lemmatize_text(text):\n",
    "    tokenised_text = nltk.word_tokenize(text)\n",
    "    # Tag with Penn Treebank POS tags\n",
    "    tagged_text = nltk.pos_tag(tokenised_text)\n",
    "\n",
    "    lemmatizer = WordNetLemmatizer()\n",
    "    lemmatized_words = []\n",
    "\n",
    "    for word in tagged_text:\n",
    "        pos_tag = get_wordnet_pos(word[1])\n",
    "        if pos_tag == '':\n",
    "            continue\n",
    "        new_word = lemmatizer.lemmatize(word=word[0], pos=pos_tag)\n",
    "        lemmatized_words.append(new_word)\n",
    "    lemmatized_text = ' '.join(lemmatized_words)\n",
    "    return lemmatized_text\n",
    "\n",
    "# Convert into wordnet compatible POS tags (j, v, n , a)\n",
    "def get_wordnet_pos(treebank_tag):\n",
    "    if treebank_tag.startswith('J'):\n",
    "        return wordnet.ADJ\n",
    "    elif treebank_tag.startswith('V'):\n",
    "        return wordnet.VERB\n",
    "    elif treebank_tag.startswith('N'):\n",
    "        return wordnet.NOUN\n",
    "    elif treebank_tag.startswith('R'):\n",
    "        return wordnet.ADV\n",
    "    else:\n",
    "        return ''\n",
    "\n",
    "# Fold to lower case\n",
    "def to_lower_case(text):\n",
    "    return text.lower()\n",
    "\n",
    "def tokenise_text(text):\n",
    "    tokens = nltk.word_tokenize(text)\n",
    "    # print(tokens)\n",
    "    return tokens\n",
    "\n",
    "def remove_stopwords(text, stopword_set):\n",
    "    # Split by whitespace\n",
    "    split_text = text.split()\n",
    "    new_tokens = []\n",
    "    for token in split_text:\n",
    "        if token in stopword_set:\n",
    "            continue\n",
    "        new_tokens.append(token)\n",
    "    # Parse back into text\n",
    "    return ' '.join(new_tokens)\n",
    "\n",
    "# Remove all punctuations - Affects words such as U.S.A etc\n",
    "# Removal of stop words has to be done prior to punctuation removal\n",
    "def remove_punctuation(text):\n",
    "    depunctuated_text = text.translate(str.maketrans('','', string.punctuation))\n",
    "    return depunctuated_text\n",
    "\n",
    "# Prevent concatenation of statistics and names\n",
    "def replace_hyphens(text):\n",
    "    return text.replace('-', ' ')\n",
    "\n",
    "# Combine all processes into a single preprocess text function to call on df\n",
    "# Default one used for training\n",
    "def preprocess_text(text):\n",
    "    dehyphenated_text = replace_hyphens(text)\n",
    "    lowered_text = to_lower_case(dehyphenated_text)\n",
    "    initial_stopword_pass = remove_stopwords(lowered_text, stopword_set)\n",
    "    tokens = tokenise_text(initial_stopword_pass)\n",
    "    tokenised_text = ' '.join(tokens)\n",
    "    depunctuated_text = remove_punctuation(tokenised_text)\n",
    "    second_stopword_pass = remove_stopwords(depunctuated_text, stopword_set)\n",
    "    return second_stopword_pass\n",
    "\n",
    "# Testing dataset 1\n",
    "def preprocess_text_no_punctuation_keep_stowords(text):\n",
    "    dehyphenated_text = replace_hyphens(text)\n",
    "    lowered_text = to_lower_case(dehyphenated_text)\n",
    "    depunctuated_text = remove_punctuation(lowered_text)\n",
    "    return depunctuated_text\n",
    "\n",
    "def remove_stopwords_two(text, stopword_set):\n",
    "    # Split by whitespace\n",
    "    split_text = text.split()\n",
    "    new_tokens = []\n",
    "    for token in split_text:\n",
    "        temp_token = token.lower()\n",
    "        if temp_token in stopword_set:\n",
    "            continue\n",
    "        new_tokens.append(token)\n",
    "    # Parse back into text\n",
    "    return ' '.join(new_tokens)\n",
    "\n",
    "# Testing dataset 2\n",
    "def preprocess_text_capitalised(text):\n",
    "    dehyphenated_text = replace_hyphens(text)\n",
    "    initial_stopword_pass = remove_stopwords_two(dehyphenated_text, stopword_set)\n",
    "    tokens = tokenise_text(initial_stopword_pass)\n",
    "    tokenised_text = ' '.join(tokens)\n",
    "    depunctuated_text = remove_punctuation(tokenised_text)\n",
    "    second_stopword_pass = remove_stopwords_two(depunctuated_text, stopword_set)\n",
    "    return second_stopword_pass\n"
   ]
  },
  {
   "cell_type": "code",
   "execution_count": 4,
   "metadata": {},
   "outputs": [],
   "source": [
    "# Pass in lists as x and y\n",
    "def plot_bar_graph(x, y, title, xlabel, ylabel):\n",
    "    fig = plt.figure(figsize = (8, 5))\n",
    "    plt.rcParams['text.color'] = 'white'\n",
    "    plt.bar(x, y, color ='#8D918D', width = 0.4)\n",
    "    plt.xlabel(xlabel)\n",
    "    plt.ylabel(ylabel)\n",
    "    plt.title(title)\n",
    "    plt.show()\n",
    "\n",
    "# Count number of unique words\n",
    "def unique_word_counter(texts):\n",
    "    count = Counter() # Dictionary type\n",
    "    # Access an entire string\n",
    "    for text in texts:\n",
    "        # Split each string into individual words separated by whitespace\n",
    "        for word in text.split():\n",
    "            count[word] += 1\n",
    "    return count"
   ]
  },
  {
   "cell_type": "code",
   "execution_count": 5,
   "metadata": {},
   "outputs": [
    {
     "name": "stdout",
     "output_type": "stream",
     "text": [
      "Satire: 14047\n",
      "Hoax: 6942\n",
      "Propaganda: 17870\n",
      "Reliable News: 9995\n",
      "==============\n",
      "Satire: 750\n",
      "Hoax: 750\n",
      "Propaganda: 750\n",
      "Reliable News: 750\n"
     ]
    }
   ],
   "source": [
    "# Read in RAW dataset files\n",
    "train_path = './raw_data/fulltrain.csv'\n",
    "test_path = './raw_data/balancedtest.csv'\n",
    "df = pd.read_csv(train_path, header=None)\n",
    "test_df = pd.read_csv(test_path, header=None)\n",
    "\n",
    "classes = ['Satire', 'Hoax', 'Propaganda', 'Reliable News']\n",
    "label_numbers = [1,2,3,4]\n",
    "\n",
    "train_labels = []\n",
    "test_labels = []\n",
    "\n",
    "for label in label_numbers:\n",
    "    print(classes[label-1] + ': ' + str((df[0] == label).sum()))\n",
    "    train_labels.append((df[0] == label).sum())\n",
    "print('==============')\n",
    "for label in label_numbers:\n",
    "    test_labels.append((test_df[0] == label).sum())\n",
    "    print(classes[label-1] + ': ' + str((test_df[0] == label).sum()))"
   ]
  },
  {
   "cell_type": "code",
   "execution_count": 6,
   "metadata": {},
   "outputs": [
    {
     "data": {
      "image/png": "[encoded data removed]",
      "text/plain": [
       "<Figure size 576x360 with 1 Axes>"
      ]
     },
     "metadata": {
      "needs_background": "light"
     },
     "output_type": "display_data"
    }
   ],
   "source": [
    "plot_bar_graph(classes, train_labels, 'Label Distribution', 'Labels', 'Number of Training Instances')"
   ]
  },
  {
   "cell_type": "code",
   "execution_count": 7,
   "metadata": {},
   "outputs": [
    {
     "data": {
      "image/png": "[encoded data removed]",
      "text/plain": [
       "<Figure size 576x360 with 1 Axes>"
      ]
     },
     "metadata": {
      "needs_background": "light"
     },
     "output_type": "display_data"
    }
   ],
   "source": [
    "plot_bar_graph(classes, test_labels, 'Label Distribution', 'Labels', 'Number of Training Instances')"
   ]
  },
  {
   "cell_type": "code",
   "execution_count": 8,
   "metadata": {},
   "outputs": [
    {
     "name": "stdout",
     "output_type": "stream",
     "text": [
      "Cleaning training text...\n",
      "Preprocessing done!\n"
     ]
    }
   ],
   "source": [
    "# Create test set to find unique words\n",
    "unique_words_df = df\n",
    "\n",
    "print('Cleaning training text...')\n",
    "unique_words_df[1] = unique_words_df[1].map(preprocess_text_capitalised)\n",
    "print('Preprocessing done!')"
   ]
  },
  {
   "cell_type": "code",
   "execution_count": 9,
   "metadata": {},
   "outputs": [
    {
     "name": "stdout",
     "output_type": "stream",
     "text": [
      "(14047, 2)\n",
      "(6942, 2)\n",
      "(17870, 2)\n",
      "(9995, 2)\n"
     ]
    }
   ],
   "source": [
    "classes = ['Satire', 'Hoax', 'Propaganda', 'Reliable News']\n",
    "label_numbers = [1,2,3,4]\n",
    "\n",
    "satire_texts = unique_words_df.loc[df[0] == 1]\n",
    "hoax_texts = unique_words_df.loc[df[0] == 2]\n",
    "propaganda_texts = unique_words_df.loc[df[0] == 3]\n",
    "reliable_texts = unique_words_df.loc[df[0] == 4]\n",
    "print(satire_texts.shape)\n",
    "print(hoax_texts.shape)\n",
    "print(propaganda_texts.shape)\n",
    "print(reliable_texts.shape)\n",
    "\n",
    "satire_counts = unique_word_counter(satire_texts[1])\n",
    "hoax_counts = unique_word_counter(hoax_texts[1])\n",
    "propaganda_counts = unique_word_counter(propaganda_texts[1])\n",
    "reliable_counts = unique_word_counter(reliable_texts[1])"
   ]
  },
  {
   "cell_type": "code",
   "execution_count": 10,
   "metadata": {},
   "outputs": [
    {
     "name": "stdout",
     "output_type": "stream",
     "text": [
      "SATIRE\n",
      "Number of unique words: 104057\n",
      "Most Common Words:\n"
     ]
    },
    {
     "data": {
      "text/plain": [
       "[('said', 34714),\n",
       " ('time', 10819),\n",
       " ('one', 10608),\n",
       " ('would', 9672),\n",
       " ('like', 9000),\n",
       " ('year', 6962),\n",
       " ('could', 6145),\n",
       " ('get', 6077),\n",
       " ('even', 5863),\n",
       " ('new', 5690),\n",
       " ('added', 5435),\n",
       " ('people', 5299),\n",
       " ('amp', 5240),\n",
       " ('Monday', 5078),\n",
       " ('old', 4970)]"
      ]
     },
     "execution_count": 10,
     "metadata": {},
     "output_type": "execute_result"
    }
   ],
   "source": [
    "print('SATIRE')\n",
    "print('Number of unique words: ' + str(len(satire_counts)))\n",
    "print('Most Common Words:')\n",
    "satire_counts.most_common(15)"
   ]
  },
  {
   "cell_type": "code",
   "execution_count": 11,
   "metadata": {},
   "outputs": [
    {
     "name": "stdout",
     "output_type": "stream",
     "text": [
      "Hoax\n",
      "Number of unique words: 41503\n",
      "Most Common Words:\n"
     ]
    },
    {
     "data": {
      "text/plain": [
       "[('Obama', 7057),\n",
       " ('think', 6147),\n",
       " ('Trump', 4884),\n",
       " ('one', 3000),\n",
       " ('According', 2994),\n",
       " ('people', 2678),\n",
       " ('reports', 2598),\n",
       " ('would', 2587),\n",
       " ('time', 2423),\n",
       " ('told', 2250),\n",
       " ('President', 2249),\n",
       " ('Clinton', 2174),\n",
       " ('American', 2143),\n",
       " ('also', 2142),\n",
       " ('recent', 2096)]"
      ]
     },
     "execution_count": 11,
     "metadata": {},
     "output_type": "execute_result"
    }
   ],
   "source": [
    "print('Hoax')\n",
    "print('Number of unique words: ' + str(len(hoax_counts)))\n",
    "print('Most Common Words:')\n",
    "hoax_counts.most_common(15)"
   ]
  },
  {
   "cell_type": "code",
   "execution_count": 12,
   "metadata": {},
   "outputs": [
    {
     "name": "stdout",
     "output_type": "stream",
     "text": [
      "Propaganda\n",
      "Number of unique words: 216915\n",
      "Most Common Words:\n"
     ]
    },
    {
     "data": {
      "text/plain": [
       "[('US', 41794),\n",
       " ('people', 39055),\n",
       " ('would', 38141),\n",
       " ('one', 33755),\n",
       " ('government', 33160),\n",
       " ('like', 26437),\n",
       " ('also', 23117),\n",
       " ('time', 22561),\n",
       " ('even', 21127),\n",
       " ('said', 19366),\n",
       " ('many', 19143),\n",
       " ('world', 19078),\n",
       " ('could', 18424),\n",
       " ('years', 17631),\n",
       " ('us', 17274)]"
      ]
     },
     "execution_count": 12,
     "metadata": {},
     "output_type": "execute_result"
    }
   ],
   "source": [
    "print('Propaganda')\n",
    "print('Number of unique words: ' + str(len(propaganda_counts)))\n",
    "print('Most Common Words:')\n",
    "propaganda_counts.most_common(15)"
   ]
  },
  {
   "cell_type": "code",
   "execution_count": 13,
   "metadata": {},
   "outputs": [
    {
     "name": "stdout",
     "output_type": "stream",
     "text": [
      "Reliable\n",
      "Number of unique words: 103140\n",
      "Most Common Words:\n"
     ]
    },
    {
     "data": {
      "text/plain": [
       "[('said', 38571),\n",
       " ('would', 10208),\n",
       " ('year', 10179),\n",
       " ('percent', 9353),\n",
       " ('one', 8699),\n",
       " ('also', 7952),\n",
       " ('US', 7747),\n",
       " ('two', 7645),\n",
       " ('Taiwan', 7314),\n",
       " ('people', 7291),\n",
       " ('government', 6799),\n",
       " ('first', 6231),\n",
       " ('new', 5876),\n",
       " ('time', 5796),\n",
       " ('years', 5771)]"
      ]
     },
     "execution_count": 13,
     "metadata": {},
     "output_type": "execute_result"
    }
   ],
   "source": [
    "print('Reliable')\n",
    "print('Number of unique words: ' + str(len(reliable_counts)))\n",
    "print('Most Common Words:')\n",
    "reliable_counts.most_common(15)"
   ]
  },
  {
   "cell_type": "code",
   "execution_count": 20,
   "metadata": {},
   "outputs": [
    {
     "name": "stdout",
     "output_type": "stream",
     "text": [
      "Cleaning training text...\n",
      "Preprocessing done!\n",
      "(14047, 2)\n",
      "(6942, 2)\n",
      "(17870, 2)\n",
      "(9995, 2)\n"
     ]
    }
   ],
   "source": [
    "# Read in RAW dataset files\n",
    "train_path = './raw_data/fulltrain.csv'\n",
    "df = pd.read_csv(train_path, header=None)\n",
    "\n",
    "classes = ['Satire', 'Hoax', 'Propaganda', 'Reliable News']\n",
    "label_numbers = [1,2,3,4]\n",
    "\n",
    "print('Cleaning training text...')\n",
    "df[1] = df[1].map(preprocess_text_no_punctuation_keep_stowords)\n",
    "print('Preprocessing done!')\n",
    "\n",
    "satire_texts = df.loc[df[0] == 1]\n",
    "hoax_texts = df.loc[df[0] == 2]\n",
    "propaganda_texts = df.loc[df[0] == 3]\n",
    "reliable_texts = df.loc[df[0] == 4]\n",
    "print(satire_texts.shape)\n",
    "print(hoax_texts.shape)\n",
    "print(propaganda_texts.shape)\n",
    "print(reliable_texts.shape)"
   ]
  },
  {
   "cell_type": "code",
   "execution_count": 21,
   "metadata": {},
   "outputs": [],
   "source": [
    "# Return average number of words in a class\n",
    "def count_words(texts, number_of_instances):\n",
    "    word_count = 0\n",
    "    for text in texts:\n",
    "        x = text.split()\n",
    "        word_count += len(x)\n",
    "    return (word_count/number_of_instances)"
   ]
  },
  {
   "cell_type": "code",
   "execution_count": 22,
   "metadata": {},
   "outputs": [
    {
     "name": "stdout",
     "output_type": "stream",
     "text": [
      "AVERAGE WORD COUNTS\n",
      "Satire word count: 298.8686552288745\n",
      "Hoax word count: 195.56856813598387\n",
      "Propaganda word count: 919.2317291550083\n",
      "Reliable word count: 446.89474737368687\n"
     ]
    }
   ],
   "source": [
    "satire_word_count = count_words(satire_texts[1], 14047)\n",
    "hoax_word_count = count_words(hoax_texts[1], 6942)\n",
    "propaganda_word_count = count_words(propaganda_texts[1], 17870)\n",
    "reliable_word_count = count_words(reliable_texts[1], 9995)\n",
    "\n",
    "print('AVERAGE WORD COUNTS')\n",
    "print('Satire word count: ' + str(satire_word_count))\n",
    "print('Hoax word count: ' + str(hoax_word_count))\n",
    "print('Propaganda word count: ' + str(propaganda_word_count))\n",
    "print('Reliable word count: ' + str(reliable_word_count))"
   ]
  },
  {
   "cell_type": "code",
   "execution_count": 23,
   "metadata": {},
   "outputs": [
    {
     "data": {
      "image/png": "[encoded data removed]",
      "text/plain": [
       "<Figure size 576x360 with 1 Axes>"
      ]
     },
     "metadata": {
      "needs_background": "light"
     },
     "output_type": "display_data"
    }
   ],
   "source": [
    "values = [satire_word_count, hoax_word_count, propaganda_word_count, reliable_word_count]\n",
    "\n",
    "plot_bar_graph(classes, values, 'Average Word Counts', 'Labels', 'Average Word Count')"
   ]
  },
  {
   "cell_type": "code",
   "execution_count": 30,
   "metadata": {},
   "outputs": [],
   "source": [
    "def identify_and_count_pov_words(texts, count):\n",
    "    first_pov_words = ['i', 'me', 'my', 'mine', 'myself', 'ourself', 'ourselves']\n",
    "    second_pov_words = ['you', 'yours', 'yourself', 'yourselves']\n",
    "    third_pov_words = ['he', 'him', 'his', 'himself', 'she', 'her', 'hers', 'herself', 'it', 'its', 'itself', 'they', 'them', 'their', 'theirs', 'themselves']\n",
    "    pov_word_counts = { 1:0, 2:0, 3:0 }\n",
    "\n",
    "    for text in texts:\n",
    "        x = text.split()\n",
    "        for token in x:\n",
    "            if token in first_pov_words:\n",
    "                pov_word_counts[1] += 1\n",
    "            elif token in second_pov_words:\n",
    "                pov_word_counts[2] += 1\n",
    "            elif token in third_pov_words:\n",
    "                pov_word_counts[3] += 1\n",
    "    pov_word_counts[1] = round(pov_word_counts[1] / count, 2)\n",
    "    pov_word_counts[2] = round(pov_word_counts[2] / count, 2)\n",
    "    pov_word_counts[3] = round(pov_word_counts[3] / count, 2)\n",
    "    return pov_word_counts"
   ]
  },
  {
   "cell_type": "code",
   "execution_count": 31,
   "metadata": {},
   "outputs": [
    {
     "name": "stdout",
     "output_type": "stream",
     "text": [
      "AVERAGE POV COUNTS\n",
      "Satire pov count: {1: 3.87, 2: 1.06, 3: 11.44}\n",
      "Hoax pov count: {1: 1.31, 2: 1.77, 3: 8.59}\n",
      "Propaganda pov count: {1: 5.55, 2: 5.37, 3: 25.56}\n",
      "Reliable pov count: {1: 1.83, 2: 0.74, 3: 13.68}\n"
     ]
    }
   ],
   "source": [
    "satire_pov_count = identify_and_count_pov_words(satire_texts[1], 14047)\n",
    "hoax_pov_count = identify_and_count_pov_words(hoax_texts[1], 6942)\n",
    "propaganda_pov_count = identify_and_count_pov_words(propaganda_texts[1], 17870)\n",
    "reliable_pov_count = identify_and_count_pov_words(reliable_texts[1], 9995)\n",
    "\n",
    "print('AVERAGE POV COUNTS')\n",
    "print('Satire pov count: ' + str(satire_pov_count))\n",
    "print('Hoax pov count: ' + str(hoax_pov_count))\n",
    "print('Propaganda pov count: ' + str(propaganda_pov_count))\n",
    "print('Reliable pov count: ' + str(reliable_pov_count))"
   ]
  },
  {
   "cell_type": "code",
   "execution_count": 44,
   "metadata": {},
   "outputs": [],
   "source": [
    "import pandas as pd\n",
    "from nltk.stem import WordNetLemmatizer\n",
    "import re\n",
    "from collections import defaultdict\n",
    "\n",
    "# Read in RAW dataset files\n",
    "train_path = './raw_data/fulltrain.csv'\n",
    "df = pd.read_csv(train_path, header=None)\n",
    "\n",
    "satire_texts = df.loc[df[0] == 1]\n",
    "hoax_texts = df.loc[df[0] == 2]\n",
    "propaganda_texts = df.loc[df[0] == 3]\n",
    "reliable_texts = df.loc[df[0] == 4]\n",
    "\n",
    "hoax_texts.sample(15)"
   ]
  },
  {
   "cell_type": "code",
   "execution_count": 45,
   "metadata": {},
   "outputs": [],
   "source": [
    "contractions = [\"n't\",\"'s\",\"'ve\",\"'d\",\"'ll\", \"'m\", \"'re\"]\n",
    "\n",
    "def count_contractions(texts):\n",
    "    contractions_dict = defaultdict(lambda: 0)\n",
    "    for text in texts:\n",
    "        tokenised_text = nltk.word_tokenize(text)\n",
    "        for token in tokenised_text:\n",
    "            new_token = token.lower()\n",
    "            if new_token in contractions:\n",
    "                contractions_dict['Total'] += 1\n",
    "                contractions_dict[new_token] += 1\n",
    "    return contractions_dict"
   ]
  },
  {
   "cell_type": "code",
   "execution_count": 46,
   "metadata": {},
   "outputs": [
    {
     "name": "stdout",
     "output_type": "stream",
     "text": [
      "AVERAGE C COUNTS\n",
      "Satire c count: defaultdict(<function count_contractions.<locals>.<lambda> at 0x0000011D80E4ED30>, {'Total': 59588, \"'s\": 34890, \"'ll\": 2134, \"n't\": 11049, \"'d\": 2387, \"'m\": 3426, \"'re\": 3048, \"'ve\": 2654})\n",
      "Hoax c count: defaultdict(<function count_contractions.<locals>.<lambda> at 0x0000011D80E50040>, {})\n",
      "Propaganda c count: defaultdict(<function count_contractions.<locals>.<lambda> at 0x0000011D80D801F0>, {})\n",
      "Reliable c count: defaultdict(<function count_contractions.<locals>.<lambda> at 0x0000011D88443C10>, {'Total': 63797, \"'s\": 48789, \"n't\": 8184, \"'re\": 2493, \"'ve\": 1436, \"'m\": 1326, \"'ll\": 879, \"'d\": 690})\n"
     ]
    }
   ],
   "source": [
    "satire_c_count = count_contractions(satire_texts[1])\n",
    "hoax_c_count = count_contractions(hoax_texts[1])\n",
    "propaganda_c_count = count_contractions(propaganda_texts[1])\n",
    "reliable_c_count = count_contractions(reliable_texts[1])\n",
    "\n",
    "print('AVERAGE C COUNTS')\n",
    "print('Satire c count: ' + str(satire_c_count))\n",
    "print('Hoax c count: ' + str(hoax_c_count))\n",
    "print('Propaganda c count: ' + str(propaganda_c_count))\n",
    "print('Reliable c count: ' + str(reliable_c_count))"
   ]
  }
 ],
 "metadata": {
  "interpreter": {
   "hash": "21df0356f9123b9ffe2140fcee819cd2cf32077b8756437e0847ceff6279ac46"
  },
  "kernelspec": {
   "display_name": "Python 3.9.5 64-bit",
   "language": "python",
   "name": "python3"
  },
  "language_info": {
   "codemirror_mode": {
    "name": "ipython",
    "version": 3
   },
   "file_extension": ".py",
   "mimetype": "text/x-python",
   "name": "python",
   "nbconvert_exporter": "python",
   "pygments_lexer": "ipython3",
   "version": "3.9.5"
  },
  "orig_nbformat": 4
 },
 "nbformat": 4,
 "nbformat_minor": 2
}
