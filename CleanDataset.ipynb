{
 "cells": [
  {
   "cell_type": "markdown",
   "metadata": {},
   "source": [
    "## Produce cleaned versions of datasets"
   ]
  },
  {
   "cell_type": "code",
   "execution_count": 12,
   "metadata": {},
   "outputs": [],
   "source": [
    "import string  \n",
    "import numpy as np\n",
    "import pandas as pd\n",
    "import nltk\n",
    "from nltk.corpus import stopwords"
   ]
  },
  {
   "cell_type": "code",
   "execution_count": 13,
   "metadata": {},
   "outputs": [
    {
     "name": "stdout",
     "output_type": "stream",
     "text": [
      "Total rows, Total Columns: (48854, 2)\n"
     ]
    },
    {
     "data": {
      "text/html": [
       "<div>\n",
       "<style scoped>\n",
       "    .dataframe tbody tr th:only-of-type {\n",
       "        vertical-align: middle;\n",
       "    }\n",
       "\n",
       "    .dataframe tbody tr th {\n",
       "        vertical-align: top;\n",
       "    }\n",
       "\n",
       "    .dataframe thead th {\n",
       "        text-align: right;\n",
       "    }\n",
       "</style>\n",
       "<table border=\"1\" class=\"dataframe\">\n",
       "  <thead>\n",
       "    <tr style=\"text-align: right;\">\n",
       "      <th></th>\n",
       "      <th>0</th>\n",
       "      <th>1</th>\n",
       "    </tr>\n",
       "  </thead>\n",
       "  <tbody>\n",
       "    <tr>\n",
       "      <th>36563</th>\n",
       "      <td>3</td>\n",
       "      <td>Man Pays Parking Fines in CoinsYoutube</td>\n",
       "    </tr>\n",
       "    <tr>\n",
       "      <th>26510</th>\n",
       "      <td>3</td>\n",
       "      <td>Pupillometry The Cutting Edge of Mind ControlB...</td>\n",
       "    </tr>\n",
       "    <tr>\n",
       "      <th>5279</th>\n",
       "      <td>1</td>\n",
       "      <td>Local resident Carl Sutton was recognized by F...</td>\n",
       "    </tr>\n",
       "    <tr>\n",
       "      <th>38833</th>\n",
       "      <td>3</td>\n",
       "      <td>Is There Going To Be A Stock Market Crash In T...</td>\n",
       "    </tr>\n",
       "    <tr>\n",
       "      <th>26222</th>\n",
       "      <td>3</td>\n",
       "      <td>Make a 55-Gallon Compost Tumbler Fast, Cheap a...</td>\n",
       "    </tr>\n",
       "  </tbody>\n",
       "</table>\n",
       "</div>"
      ],
      "text/plain": [
       "       0                                                  1\n",
       "36563  3            Man Pays Parking Fines in CoinsYoutube \n",
       "26510  3  Pupillometry The Cutting Edge of Mind ControlB...\n",
       "5279   1  Local resident Carl Sutton was recognized by F...\n",
       "38833  3  Is There Going To Be A Stock Market Crash In T...\n",
       "26222  3  Make a 55-Gallon Compost Tumbler Fast, Cheap a..."
      ]
     },
     "execution_count": 13,
     "metadata": {},
     "output_type": "execute_result"
    }
   ],
   "source": [
    "# Read CSV file in\n",
    "train_path = './raw_data/fulltrain.csv'\n",
    "test_path = './raw_data/balancedtest.csv'\n",
    "df = pd.read_csv(train_path, header=None)\n",
    "test_df = pd.read_csv(test_path, header=None)\n",
    "\n",
    "print('Total rows, Total Columns: ' + str(df.shape))\n",
    "df.sample(5) # Random sample values to see"
   ]
  },
  {
   "cell_type": "code",
   "execution_count": 14,
   "metadata": {},
   "outputs": [
    {
     "name": "stdout",
     "output_type": "stream",
     "text": [
      "Total rows, Total Columns: (3000, 2)\n"
     ]
    },
    {
     "data": {
      "text/html": [
       "<div>\n",
       "<style scoped>\n",
       "    .dataframe tbody tr th:only-of-type {\n",
       "        vertical-align: middle;\n",
       "    }\n",
       "\n",
       "    .dataframe tbody tr th {\n",
       "        vertical-align: top;\n",
       "    }\n",
       "\n",
       "    .dataframe thead th {\n",
       "        text-align: right;\n",
       "    }\n",
       "</style>\n",
       "<table border=\"1\" class=\"dataframe\">\n",
       "  <thead>\n",
       "    <tr style=\"text-align: right;\">\n",
       "      <th></th>\n",
       "      <th>0</th>\n",
       "      <th>1</th>\n",
       "    </tr>\n",
       "  </thead>\n",
       "  <tbody>\n",
       "    <tr>\n",
       "      <th>845</th>\n",
       "      <td>2</td>\n",
       "      <td>More Moolah Wasted As NIH Kills National Child...</td>\n",
       "    </tr>\n",
       "    <tr>\n",
       "      <th>1727</th>\n",
       "      <td>3</td>\n",
       "      <td>With preparations being made for the massive ...</td>\n",
       "    </tr>\n",
       "    <tr>\n",
       "      <th>997</th>\n",
       "      <td>2</td>\n",
       "      <td>EXPOSED! U.N. AGENDA: INFILTRATE AMERICA With ...</td>\n",
       "    </tr>\n",
       "    <tr>\n",
       "      <th>1771</th>\n",
       "      <td>3</td>\n",
       "      <td>Nichole Rolfe (formerly Bruff) was expelled f...</td>\n",
       "    </tr>\n",
       "    <tr>\n",
       "      <th>725</th>\n",
       "      <td>1</td>\n",
       "      <td>Republican Presidential candidate Mitt Romneys...</td>\n",
       "    </tr>\n",
       "  </tbody>\n",
       "</table>\n",
       "</div>"
      ],
      "text/plain": [
       "      0                                                  1\n",
       "845   2  More Moolah Wasted As NIH Kills National Child...\n",
       "1727  3   With preparations being made for the massive ...\n",
       "997   2  EXPOSED! U.N. AGENDA: INFILTRATE AMERICA With ...\n",
       "1771  3   Nichole Rolfe (formerly Bruff) was expelled f...\n",
       "725   1  Republican Presidential candidate Mitt Romneys..."
      ]
     },
     "execution_count": 14,
     "metadata": {},
     "output_type": "execute_result"
    }
   ],
   "source": [
    "print('Total rows, Total Columns: ' + str(test_df.shape))\n",
    "test_df.sample(5) # Random sample values to see"
   ]
  },
  {
   "cell_type": "markdown",
   "metadata": {},
   "source": [
    "### Text-Cleaning Function"
   ]
  },
  {
   "cell_type": "code",
   "execution_count": 15,
   "metadata": {},
   "outputs": [],
   "source": [
    "# Create set of stopwords for use in preprocessing\n",
    "stopword_set = set(stopwords.words('english'))\n",
    "# print(stopword_set)\n",
    "\n",
    "# Fold to lower case\n",
    "def to_lower_case(text):\n",
    "    return text.lower()\n",
    "\n",
    "def tokenise_text(text):\n",
    "    tokens = nltk.word_tokenize(text)\n",
    "    # print(tokens)\n",
    "    return tokens\n",
    "\n",
    "def remove_stopwords(text, stopword_set):\n",
    "    # Split by whitespace\n",
    "    split_text = text.split()\n",
    "    new_tokens = []\n",
    "    for token in split_text:\n",
    "        if token in stopword_set:\n",
    "            continue\n",
    "        new_tokens.append(token)\n",
    "    # Parse back into text\n",
    "    return ' '.join(new_tokens)\n",
    "\n",
    "# Remove all punctuations - Affects words such as U.S.A etc\n",
    "# Removal of stop words has to be done prior to punctuation removal\n",
    "def remove_punctuation(text):\n",
    "    depunctuated_text = text.translate(str.maketrans('','', string.punctuation))\n",
    "    return depunctuated_text\n",
    "\n",
    "# Prevent concatenation of statistics and names\n",
    "def replace_hyphens(text):\n",
    "    return text.replace('-', ' ')\n",
    "\n",
    "# Combine all processes into a single preprocess text function to call on df\n",
    "def preprocess_text(text):\n",
    "    dehyphenated_text = replace_hyphens(text)\n",
    "    lowered_text = to_lower_case(dehyphenated_text)\n",
    "    initial_stopword_pass = remove_stopwords(lowered_text, stopword_set)\n",
    "    tokens = tokenise_text(initial_stopword_pass)\n",
    "    tokenised_text = ' '.join(tokens)\n",
    "    depunctuated_text = remove_punctuation(tokenised_text)\n",
    "    second_stopword_pass = remove_stopwords(depunctuated_text, stopword_set)\n",
    "    return second_stopword_pass"
   ]
  },
  {
   "cell_type": "code",
   "execution_count": 16,
   "metadata": {},
   "outputs": [
    {
     "name": "stdout",
     "output_type": "stream",
     "text": [
      "Cleaning training text...\n",
      "Preprocessing done!\n"
     ]
    },
    {
     "data": {
      "text/html": [
       "<div>\n",
       "<style scoped>\n",
       "    .dataframe tbody tr th:only-of-type {\n",
       "        vertical-align: middle;\n",
       "    }\n",
       "\n",
       "    .dataframe tbody tr th {\n",
       "        vertical-align: top;\n",
       "    }\n",
       "\n",
       "    .dataframe thead th {\n",
       "        text-align: right;\n",
       "    }\n",
       "</style>\n",
       "<table border=\"1\" class=\"dataframe\">\n",
       "  <thead>\n",
       "    <tr style=\"text-align: right;\">\n",
       "      <th></th>\n",
       "      <th>0</th>\n",
       "      <th>1</th>\n",
       "    </tr>\n",
       "  </thead>\n",
       "  <tbody>\n",
       "    <tr>\n",
       "      <th>16424</th>\n",
       "      <td>2</td>\n",
       "      <td>obama plants watchdog congress undermine trump...</td>\n",
       "    </tr>\n",
       "    <tr>\n",
       "      <th>31257</th>\n",
       "      <td>3</td>\n",
       "      <td>president obama signed dark act lawby heather ...</td>\n",
       "    </tr>\n",
       "    <tr>\n",
       "      <th>22689</th>\n",
       "      <td>3</td>\n",
       "      <td>dont let trade away internet freedomseff corpo...</td>\n",
       "    </tr>\n",
       "    <tr>\n",
       "      <th>10598</th>\n",
       "      <td>1</td>\n",
       "      <td>citing devastatingly uncomfortable makes peopl...</td>\n",
       "    </tr>\n",
       "    <tr>\n",
       "      <th>29271</th>\n",
       "      <td>3</td>\n",
       "      <td>dead disabled displaced destroyed democracy de...</td>\n",
       "    </tr>\n",
       "    <tr>\n",
       "      <th>44033</th>\n",
       "      <td>4</td>\n",
       "      <td>looking like matinee idol bygone era ryan moor...</td>\n",
       "    </tr>\n",
       "    <tr>\n",
       "      <th>47485</th>\n",
       "      <td>4</td>\n",
       "      <td>government information office gio rejected acc...</td>\n",
       "    </tr>\n",
       "    <tr>\n",
       "      <th>22052</th>\n",
       "      <td>3</td>\n",
       "      <td>house bill introduced us govt stop funding arm...</td>\n",
       "    </tr>\n",
       "    <tr>\n",
       "      <th>23863</th>\n",
       "      <td>3</td>\n",
       "      <td>theres reason called courts janet c phelan unl...</td>\n",
       "    </tr>\n",
       "    <tr>\n",
       "      <th>40388</th>\n",
       "      <td>4</td>\n",
       "      <td>britain limped longest ever recession fourth q...</td>\n",
       "    </tr>\n",
       "  </tbody>\n",
       "</table>\n",
       "</div>"
      ],
      "text/plain": [
       "       0                                                  1\n",
       "16424  2  obama plants watchdog congress undermine trump...\n",
       "31257  3  president obama signed dark act lawby heather ...\n",
       "22689  3  dont let trade away internet freedomseff corpo...\n",
       "10598  1  citing devastatingly uncomfortable makes peopl...\n",
       "29271  3  dead disabled displaced destroyed democracy de...\n",
       "44033  4  looking like matinee idol bygone era ryan moor...\n",
       "47485  4  government information office gio rejected acc...\n",
       "22052  3  house bill introduced us govt stop funding arm...\n",
       "23863  3  theres reason called courts janet c phelan unl...\n",
       "40388  4  britain limped longest ever recession fourth q..."
      ]
     },
     "execution_count": 16,
     "metadata": {},
     "output_type": "execute_result"
    }
   ],
   "source": [
    "print('Cleaning training text...')\n",
    "df[1] = df[1].map(preprocess_text)\n",
    "print('Preprocessing done!')\n",
    "df.sample(10) # Random sample values to see"
   ]
  },
  {
   "cell_type": "code",
   "execution_count": 17,
   "metadata": {},
   "outputs": [
    {
     "name": "stdout",
     "output_type": "stream",
     "text": [
      "Cleaning test text...\n",
      "Preprocessing done!\n"
     ]
    },
    {
     "data": {
      "text/html": [
       "<div>\n",
       "<style scoped>\n",
       "    .dataframe tbody tr th:only-of-type {\n",
       "        vertical-align: middle;\n",
       "    }\n",
       "\n",
       "    .dataframe tbody tr th {\n",
       "        vertical-align: top;\n",
       "    }\n",
       "\n",
       "    .dataframe thead th {\n",
       "        text-align: right;\n",
       "    }\n",
       "</style>\n",
       "<table border=\"1\" class=\"dataframe\">\n",
       "  <thead>\n",
       "    <tr style=\"text-align: right;\">\n",
       "      <th></th>\n",
       "      <th>0</th>\n",
       "      <th>1</th>\n",
       "    </tr>\n",
       "  </thead>\n",
       "  <tbody>\n",
       "    <tr>\n",
       "      <th>1576</th>\n",
       "      <td>3</td>\n",
       "      <td>tweet patients irritable bowel syndrome ibs to...</td>\n",
       "    </tr>\n",
       "    <tr>\n",
       "      <th>2860</th>\n",
       "      <td>4</td>\n",
       "      <td>supreme court justices signaled tuesday likely...</td>\n",
       "    </tr>\n",
       "    <tr>\n",
       "      <th>1222</th>\n",
       "      <td>2</td>\n",
       "      <td>hillary comey says charges online poll virgini...</td>\n",
       "    </tr>\n",
       "    <tr>\n",
       "      <th>2884</th>\n",
       "      <td>4</td>\n",
       "      <td>netherlands becomes first team qualify round 1...</td>\n",
       "    </tr>\n",
       "    <tr>\n",
       "      <th>642</th>\n",
       "      <td>1</td>\n",
       "      <td>serial junkies might want sit one whether your...</td>\n",
       "    </tr>\n",
       "    <tr>\n",
       "      <th>2421</th>\n",
       "      <td>4</td>\n",
       "      <td>ask david plouffe democrats recover electoral ...</td>\n",
       "    </tr>\n",
       "    <tr>\n",
       "      <th>1069</th>\n",
       "      <td>2</td>\n",
       "      <td>hands dont shoot true per witness multiple sit...</td>\n",
       "    </tr>\n",
       "    <tr>\n",
       "      <th>429</th>\n",
       "      <td>1</td>\n",
       "      <td>billionaire koch brothers approved controversi...</td>\n",
       "    </tr>\n",
       "    <tr>\n",
       "      <th>2829</th>\n",
       "      <td>4</td>\n",
       "      <td>record high water levels put capacity china ma...</td>\n",
       "    </tr>\n",
       "    <tr>\n",
       "      <th>884</th>\n",
       "      <td>2</td>\n",
       "      <td>roger stone organizing cleveland protests stop...</td>\n",
       "    </tr>\n",
       "  </tbody>\n",
       "</table>\n",
       "</div>"
      ],
      "text/plain": [
       "      0                                                  1\n",
       "1576  3  tweet patients irritable bowel syndrome ibs to...\n",
       "2860  4  supreme court justices signaled tuesday likely...\n",
       "1222  2  hillary comey says charges online poll virgini...\n",
       "2884  4  netherlands becomes first team qualify round 1...\n",
       "642   1  serial junkies might want sit one whether your...\n",
       "2421  4  ask david plouffe democrats recover electoral ...\n",
       "1069  2  hands dont shoot true per witness multiple sit...\n",
       "429   1  billionaire koch brothers approved controversi...\n",
       "2829  4  record high water levels put capacity china ma...\n",
       "884   2  roger stone organizing cleveland protests stop..."
      ]
     },
     "execution_count": 17,
     "metadata": {},
     "output_type": "execute_result"
    }
   ],
   "source": [
    "print('Cleaning test text...')\n",
    "test_df[1] = test_df[1].map(preprocess_text)\n",
    "print('Preprocessing done!')\n",
    "test_df.sample(10) # Random sample values to see"
   ]
  },
  {
   "cell_type": "code",
   "execution_count": 20,
   "metadata": {},
   "outputs": [],
   "source": [
    "df.to_csv('./cleaned_data/clean_fulltrain.csv', header=False, index=False)"
   ]
  },
  {
   "cell_type": "code",
   "execution_count": 21,
   "metadata": {},
   "outputs": [],
   "source": [
    "test_df.to_csv('./cleaned_data/clean_balancedtest.csv', header=False, index=False)"
   ]
  },
  {
   "cell_type": "code",
   "execution_count": 25,
   "metadata": {},
   "outputs": [
    {
     "name": "stdout",
     "output_type": "stream",
     "text": [
      "Total rows, Total Columns: (48854, 2)\n"
     ]
    },
    {
     "data": {
      "text/html": [
       "<div>\n",
       "<style scoped>\n",
       "    .dataframe tbody tr th:only-of-type {\n",
       "        vertical-align: middle;\n",
       "    }\n",
       "\n",
       "    .dataframe tbody tr th {\n",
       "        vertical-align: top;\n",
       "    }\n",
       "\n",
       "    .dataframe thead th {\n",
       "        text-align: right;\n",
       "    }\n",
       "</style>\n",
       "<table border=\"1\" class=\"dataframe\">\n",
       "  <thead>\n",
       "    <tr style=\"text-align: right;\">\n",
       "      <th></th>\n",
       "      <th>0</th>\n",
       "      <th>1</th>\n",
       "    </tr>\n",
       "  </thead>\n",
       "  <tbody>\n",
       "    <tr>\n",
       "      <th>41063</th>\n",
       "      <td>4</td>\n",
       "      <td>icelandic farmers living areas near erupting v...</td>\n",
       "    </tr>\n",
       "    <tr>\n",
       "      <th>38807</th>\n",
       "      <td>3</td>\n",
       "      <td>iarpa us government spies us vimeo youtubesusa...</td>\n",
       "    </tr>\n",
       "    <tr>\n",
       "      <th>3884</th>\n",
       "      <td>1</td>\n",
       "      <td>dr andrew lassiter st luke medical center emer...</td>\n",
       "    </tr>\n",
       "    <tr>\n",
       "      <th>18466</th>\n",
       "      <td>2</td>\n",
       "      <td>everyone distracted super tuesday obama secret...</td>\n",
       "    </tr>\n",
       "    <tr>\n",
       "      <th>38286</th>\n",
       "      <td>3</td>\n",
       "      <td>3 tools building decentralized communities fre...</td>\n",
       "    </tr>\n",
       "  </tbody>\n",
       "</table>\n",
       "</div>"
      ],
      "text/plain": [
       "       0                                                  1\n",
       "41063  4  icelandic farmers living areas near erupting v...\n",
       "38807  3  iarpa us government spies us vimeo youtubesusa...\n",
       "3884   1  dr andrew lassiter st luke medical center emer...\n",
       "18466  2  everyone distracted super tuesday obama secret...\n",
       "38286  3  3 tools building decentralized communities fre..."
      ]
     },
     "execution_count": 25,
     "metadata": {},
     "output_type": "execute_result"
    }
   ],
   "source": [
    "# Read CSV file in\n",
    "clean_train_path = './cleaned_data/clean_fulltrain.csv'\n",
    "clean_test_path = './cleaned_data/clean_balancedtest.csv'\n",
    "clean_df = pd.read_csv(clean_train_path, header=None)\n",
    "clean_test_df = pd.read_csv(clean_test_path, header=None)\n",
    "\n",
    "print('Total rows, Total Columns: ' + str(clean_df.shape))\n",
    "clean_df.sample(5) # Random sample values to see"
   ]
  },
  {
   "cell_type": "code",
   "execution_count": 26,
   "metadata": {},
   "outputs": [
    {
     "name": "stdout",
     "output_type": "stream",
     "text": [
      "Total rows, Total Columns: (3000, 2)\n"
     ]
    },
    {
     "data": {
      "text/html": [
       "<div>\n",
       "<style scoped>\n",
       "    .dataframe tbody tr th:only-of-type {\n",
       "        vertical-align: middle;\n",
       "    }\n",
       "\n",
       "    .dataframe tbody tr th {\n",
       "        vertical-align: top;\n",
       "    }\n",
       "\n",
       "    .dataframe thead th {\n",
       "        text-align: right;\n",
       "    }\n",
       "</style>\n",
       "<table border=\"1\" class=\"dataframe\">\n",
       "  <thead>\n",
       "    <tr style=\"text-align: right;\">\n",
       "      <th></th>\n",
       "      <th>0</th>\n",
       "      <th>1</th>\n",
       "    </tr>\n",
       "  </thead>\n",
       "  <tbody>\n",
       "    <tr>\n",
       "      <th>2648</th>\n",
       "      <td>4</td>\n",
       "      <td>barnes noble virginia tysons corner center one...</td>\n",
       "    </tr>\n",
       "    <tr>\n",
       "      <th>2706</th>\n",
       "      <td>4</td>\n",
       "      <td>following editorial appeared thursday washingt...</td>\n",
       "    </tr>\n",
       "    <tr>\n",
       "      <th>404</th>\n",
       "      <td>1</td>\n",
       "      <td>aftermath sudden withdrawal presidential race ...</td>\n",
       "    </tr>\n",
       "    <tr>\n",
       "      <th>1231</th>\n",
       "      <td>2</td>\n",
       "      <td>us officer arrested aiding isis veteran washin...</td>\n",
       "    </tr>\n",
       "    <tr>\n",
       "      <th>150</th>\n",
       "      <td>1</td>\n",
       "      <td>construction sochi much track finished time 20...</td>\n",
       "    </tr>\n",
       "  </tbody>\n",
       "</table>\n",
       "</div>"
      ],
      "text/plain": [
       "      0                                                  1\n",
       "2648  4  barnes noble virginia tysons corner center one...\n",
       "2706  4  following editorial appeared thursday washingt...\n",
       "404   1  aftermath sudden withdrawal presidential race ...\n",
       "1231  2  us officer arrested aiding isis veteran washin...\n",
       "150   1  construction sochi much track finished time 20..."
      ]
     },
     "execution_count": 26,
     "metadata": {},
     "output_type": "execute_result"
    }
   ],
   "source": [
    "print('Total rows, Total Columns: ' + str(clean_test_df.shape))\n",
    "clean_test_df.sample(5) # Random sample values to see"
   ]
  },
  {
   "cell_type": "code",
   "execution_count": 27,
   "metadata": {},
   "outputs": [
    {
     "name": "stdout",
     "output_type": "stream",
     "text": [
      "us government seeing hints adversaries targeting military networks remote sabotage head pentagon recently launched cyber command said first public remarks since confirmed last month potential sabotage destruction possible something must treat seriously said gen keith alexander also heads national security agency nation largest intelligence agency department defense must able operate freely defend resources cyberspace alexander spoke thursday 300 people center strategic international studies washington remarks afterward alexander said concerned safety computer systems used war zones concern look could happen computer clearly sabotage destruction things yet come said defend systems people able break james lewis director csis technology public policy program said advanced militaries capable destroying us computer systems true four years ago true cyber command deal said cyber command launched last month fort meade md created defense secretary robert gates streamline military capabilities attack defend cyberspace supported nsa intelligence capabilities alexander stressed command focus protecting us military 15000 computer networks oversight special foreign intelligence surveillance court congress administration remarks aimed assuaging concerns nsa role helping protect civilian private sector networks well fears militarization cyberspace spend lot time court congress administration oversight committees ensure know alexander said done classified settings said including surveillance court set part effort protect americans unwarranted government surveillance hard part ca nt go tell everybody exactly give capability may extremely useful protecting country allies said alexander confirmation delayed months congressional concerns command role scope action operations would affect americans privacy lack clarity rules road cyber warfare rules still debated formulated said rules engagement working department homeland security private industry protecting private sector systems perhaps difficult challenge alexander hands full hardening military systems dod systems probed unauthorized users 6 million times day front line defenses challenge still devote much time resources dealing relatively mundane problems poorly engineered software missing patches said\n"
     ]
    }
   ],
   "source": [
    "print(clean_test_df[1][2649])"
   ]
  }
 ],
 "metadata": {
  "interpreter": {
   "hash": "21df0356f9123b9ffe2140fcee819cd2cf32077b8756437e0847ceff6279ac46"
  },
  "kernelspec": {
   "display_name": "Python 3.9.5 64-bit",
   "language": "python",
   "name": "python3"
  },
  "language_info": {
   "codemirror_mode": {
    "name": "ipython",
    "version": 3
   },
   "file_extension": ".py",
   "mimetype": "text/x-python",
   "name": "python",
   "nbconvert_exporter": "python",
   "pygments_lexer": "ipython3",
   "version": "3.9.5"
  },
  "orig_nbformat": 4
 },
 "nbformat": 4,
 "nbformat_minor": 2
}
