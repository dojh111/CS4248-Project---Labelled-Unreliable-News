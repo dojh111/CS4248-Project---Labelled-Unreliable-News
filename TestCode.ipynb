{
 "cells": [
  {
   "cell_type": "markdown",
   "metadata": {},
   "source": [
    "# TEST CODE"
   ]
  },
  {
   "cell_type": "code",
   "execution_count": 1,
   "metadata": {},
   "outputs": [
    {
     "data": {
      "text/plain": [
       "array([[2, 0, 0],\n",
       "       [0, 0, 1],\n",
       "       [1, 0, 2]], dtype=int64)"
      ]
     },
     "execution_count": 1,
     "metadata": {},
     "output_type": "execute_result"
    }
   ],
   "source": [
    "from sklearn.metrics import confusion_matrix\n",
    "\n",
    "y_true = [2, 0, 2, 2, 0, 1]\n",
    "y_pred = [0, 0, 2, 2, 0, 2]\n",
    "result = confusion_matrix(y_true, y_pred)\n",
    "\n",
    "print(result)"
   ]
  },
  {
   "cell_type": "code",
   "execution_count": 15,
   "metadata": {},
   "outputs": [
    {
     "data": {
      "image/png": "[encoded data removed]",
      "text/plain": [
       "<Figure size 432x288 with 1 Axes>"
      ]
     },
     "metadata": {
      "needs_background": "light"
     },
     "output_type": "display_data"
    }
   ],
   "source": [
    "import numpy as np\n",
    "import matplotlib.pyplot as plt\n",
    "  \n",
    "N = 3\n",
    "ind = np.arange(N) \n",
    "width = 0.2\n",
    "  \n",
    "satirevals = [3.87, 1.06, 11.44]\n",
    "bar1 = plt.bar(ind, satirevals, width, color = 'red')\n",
    "  \n",
    "hoaxvals = [1.31, 1.77, 8.59]\n",
    "bar2 = plt.bar(ind+width, hoaxvals, width, color='green')\n",
    "  \n",
    "propvals = [5.55, 5.37, 25.56]\n",
    "bar3 = plt.bar(ind+width*2, propvals, width, color = 'blue')\n",
    "\n",
    "reliablevals = [1.83, 0.74, 13.68]\n",
    "bar4 = plt.bar(ind+width*3, reliablevals, width, color = 'orange')\n",
    "  \n",
    "plt.xlabel(\"POVs\")\n",
    "plt.ylabel('Average Count')\n",
    "plt.title(\"Average POV Counts Per Label\")\n",
    "  \n",
    "plt.xticks(ind+width,['POV 1', 'POV2', 'POV3'])\n",
    "plt.legend( (bar1, bar2, bar3, bar4), ('Satire', 'Hoax', 'Propaganda', 'Reliable') )\n",
    "plt.show()"
   ]
  }
 ],
 "metadata": {
  "interpreter": {
   "hash": "21df0356f9123b9ffe2140fcee819cd2cf32077b8756437e0847ceff6279ac46"
  },
  "kernelspec": {
   "display_name": "Python 3.9.5 64-bit",
   "language": "python",
   "name": "python3"
  },
  "language_info": {
   "codemirror_mode": {
    "name": "ipython",
    "version": 3
   },
   "file_extension": ".py",
   "mimetype": "text/x-python",
   "name": "python",
   "nbconvert_exporter": "python",
   "pygments_lexer": "ipython3",
   "version": "3.9.5"
  },
  "orig_nbformat": 4
 },
 "nbformat": 4,
 "nbformat_minor": 2
}
