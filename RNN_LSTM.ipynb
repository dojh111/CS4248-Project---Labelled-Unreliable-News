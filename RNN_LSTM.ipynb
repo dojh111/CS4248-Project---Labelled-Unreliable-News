{
 "cells": [
  {
   "cell_type": "markdown",
   "metadata": {},
   "source": [
    "## RNN LSTM Text Classificaiton model"
   ]
  },
  {
   "cell_type": "markdown",
   "metadata": {},
   "source": [
    "### Dependencies and Libraries"
   ]
  },
  {
   "cell_type": "code",
   "execution_count": 36,
   "metadata": {},
   "outputs": [],
   "source": [
    "import string                           # For removal of punctuation\n",
    "import numpy as np\n",
    "import pandas as pd\n",
    "import tensorflow as tf\n",
    "from tensorflow import keras\n",
    "import nltk\n",
    "from nltk.corpus import stopwords"
   ]
  },
  {
   "cell_type": "markdown",
   "metadata": {},
   "source": [
    "### Reading in data into pd dataframes, data viewing"
   ]
  },
  {
   "cell_type": "code",
   "execution_count": 37,
   "metadata": {},
   "outputs": [
    {
     "name": "stdout",
     "output_type": "stream",
     "text": [
      "<class 'pandas.core.frame.DataFrame'>\n",
      "Total rows, Total Columns: (48854, 2)\n"
     ]
    },
    {
     "data": {
      "text/html": [
       "<div>\n",
       "<style scoped>\n",
       "    .dataframe tbody tr th:only-of-type {\n",
       "        vertical-align: middle;\n",
       "    }\n",
       "\n",
       "    .dataframe tbody tr th {\n",
       "        vertical-align: top;\n",
       "    }\n",
       "\n",
       "    .dataframe thead th {\n",
       "        text-align: right;\n",
       "    }\n",
       "</style>\n",
       "<table border=\"1\" class=\"dataframe\">\n",
       "  <thead>\n",
       "    <tr style=\"text-align: right;\">\n",
       "      <th></th>\n",
       "      <th>0</th>\n",
       "      <th>1</th>\n",
       "    </tr>\n",
       "  </thead>\n",
       "  <tbody>\n",
       "    <tr>\n",
       "      <th>39153</th>\n",
       "      <td>4</td>\n",
       "      <td>Many of the patients at the Sanjali rehabilita...</td>\n",
       "    </tr>\n",
       "    <tr>\n",
       "      <th>16000</th>\n",
       "      <td>2</td>\n",
       "      <td>BLM Protestors Block Truck From Driving Throug...</td>\n",
       "    </tr>\n",
       "    <tr>\n",
       "      <th>13972</th>\n",
       "      <td>1</td>\n",
       "      <td>According to sources around the league, the Ne...</td>\n",
       "    </tr>\n",
       "    <tr>\n",
       "      <th>43616</th>\n",
       "      <td>4</td>\n",
       "      <td>WASHINGTON With the Senate's passage of financ...</td>\n",
       "    </tr>\n",
       "    <tr>\n",
       "      <th>29814</th>\n",
       "      <td>3</td>\n",
       "      <td>Agenda 21 and the New World Economy: where hap...</td>\n",
       "    </tr>\n",
       "  </tbody>\n",
       "</table>\n",
       "</div>"
      ],
      "text/plain": [
       "       0                                                  1\n",
       "39153  4  Many of the patients at the Sanjali rehabilita...\n",
       "16000  2  BLM Protestors Block Truck From Driving Throug...\n",
       "13972  1  According to sources around the league, the Ne...\n",
       "43616  4  WASHINGTON With the Senate's passage of financ...\n",
       "29814  3  Agenda 21 and the New World Economy: where hap..."
      ]
     },
     "execution_count": 37,
     "metadata": {},
     "output_type": "execute_result"
    }
   ],
   "source": [
    "# Read CSV file in\n",
    "train_path = './raw_data/fulltrain.csv'\n",
    "test_path = './raw_data/balancedtest.csv'\n",
    "df = pd.read_csv(train_path, header=None)\n",
    "test_df = pd.read_csv(test_path, header=None)\n",
    "\n",
    "print(type(df))\n",
    "\n",
    "# Samples, number of columns, 0 = labels, column 1 = text\n",
    "print('Total rows, Total Columns: ' + str(df.shape))\n",
    "df.sample(5) # Random sample values to see"
   ]
  },
  {
   "cell_type": "code",
   "execution_count": 38,
   "metadata": {},
   "outputs": [
    {
     "name": "stdout",
     "output_type": "stream",
     "text": [
      "Satire: 14047\n",
      "Hoax: 6942\n",
      "Propaganda: 17870\n",
      "Reliable News: 9995\n"
     ]
    }
   ],
   "source": [
    "# Get number of labels for each task\n",
    "classes = ['Satire', 'Hoax', 'Propaganda', 'Reliable News']\n",
    "label_numbers = [1,2,3,4]\n",
    "\n",
    "for label in label_numbers:\n",
    "    print(classes[label-1] + ': ' + str((df[0] == label).sum()))"
   ]
  },
  {
   "cell_type": "markdown",
   "metadata": {},
   "source": [
    "### Preprocessing Functions\n",
    "- Removal of punctuation in Python Strings, [link](https://datagy.io/python-remove-punctuation-from-string/#:~:text=One%20of%20the%20easiest%20ways,maketrans()%20method.)"
   ]
  },
  {
   "cell_type": "code",
   "execution_count": 41,
   "metadata": {},
   "outputs": [
    {
     "name": "stdout",
     "output_type": "stream",
     "text": [
      "{\"that'll\", 'is', 'were', 'who', 'not', 'more', 'yourself', 'll', 'out', 'myself', 're', 'did', 'when', 'an', 'she', 'than', 'any', 'own', 'mustn', 'into', 'above', 'between', 'then', \"won't\", 'these', \"you'll\", 'a', 'for', 'himself', 'very', 'down', 'didn', 'his', 'which', 'ours', 'that', 'needn', 'during', 'again', 'm', \"didn't\", 'their', 'won', 'it', 'the', 'weren', 'we', 'too', \"aren't\", 'shan', 'just', 'its', 'my', 'in', 'been', 'o', 'has', 'you', 'doesn', 'do', \"couldn't\", 'but', 'our', 'against', 't', 'as', 'other', \"wouldn't\", 'or', 'will', \"mightn't\", 'further', 'having', 'because', 'before', 'over', \"mustn't\", 'all', 'whom', 'now', 'doing', 'he', 'about', 'here', 'if', 'of', 'can', 'what', 'this', 'same', 'some', 'by', 'such', \"you're\", 'themselves', 'below', 'itself', 'those', \"don't\", 'mightn', 'are', \"shouldn't\", 'nor', 'yours', 'him', 'have', \"you've\", \"needn't\", 's', \"haven't\", \"weren't\", \"it's\", 'ain', 'does', 'while', \"should've\", 'under', 've', 'there', 'wasn', 'off', 'me', 'on', 'how', 'why', 'theirs', \"isn't\", \"wasn't\", 'hers', 'to', 'no', 'couldn', 'wouldn', 'your', \"hasn't\", 'so', \"hadn't\", 'once', 'only', 'hadn', \"she's\", 'ma', 'her', 'and', 'i', 'be', 'few', 'isn', 'aren', 'most', 'had', 'where', 'was', 'up', 'them', 'ourselves', 'don', 'herself', 'yourselves', 'they', 'both', 'am', 'should', 'y', 'hasn', 'through', 'with', 'after', \"doesn't\", \"shan't\", 'from', 'until', 'd', 'at', 'each', \"you'd\", 'haven', 'shouldn', 'being'}\n"
     ]
    }
   ],
   "source": [
    "# Create set of stopwords for use in preprocessing\n",
    "stopword_set = set(stopwords.words('english'))\n",
    "\n",
    "# Fold to lower case\n",
    "def to_lower_case(text):\n",
    "    return text.lower()\n",
    "\n",
    "def remove_stopwords(text, stopword_set):\n",
    "    new_text = ''\n",
    "    return new_text\n",
    "\n",
    "# Remove all punctuations - May affect words such as U.S.A etc\n",
    "# Removal of stop words has to be done prior to this\n",
    "def remove_punctuation(text):\n",
    "    depunctuated_text = text.translate(str.maketrans('','', string.punctuation))\n",
    "    print(depunctuated_text)\n",
    "    return depunctuated_text"
   ]
  }
 ],
 "metadata": {
  "interpreter": {
   "hash": "21df0356f9123b9ffe2140fcee819cd2cf32077b8756437e0847ceff6279ac46"
  },
  "kernelspec": {
   "display_name": "Python 3.9.5 64-bit",
   "language": "python",
   "name": "python3"
  },
  "language_info": {
   "codemirror_mode": {
    "name": "ipython",
    "version": 3
   },
   "file_extension": ".py",
   "mimetype": "text/x-python",
   "name": "python",
   "nbconvert_exporter": "python",
   "pygments_lexer": "ipython3",
   "version": "3.9.5"
  },
  "orig_nbformat": 4
 },
 "nbformat": 4,
 "nbformat_minor": 2
}
